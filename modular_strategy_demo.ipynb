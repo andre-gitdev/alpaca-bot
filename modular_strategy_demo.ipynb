{
 "cells": [
  {
   "cell_type": "markdown",
   "metadata": {},
   "source": [
    "# Modular EMA/SMA Strategy Demo\n",
    "\n",
    "This notebook shows how to configure and exercise the trading components\n",
    "from this repository without connecting to Alpaca. It relies on the\n",
    "in-memory broker and synthetic data generators from `example_simulation.py`\n",
    "so you can tweak parameters such as symbols, indicator periods, and cash\n",
    "allocation to observe the resulting orders."
   ]
  },
  {
   "cell_type": "markdown",
   "metadata": {},
   "source": [
    "## 1. Import the modular building blocks\n",
    "\n",
    "The configuration dataclasses describe the strategy inputs, while the\n",
    "indicator, risk, and strategy classes orchestrate the trading logic. The\n",
    "`FakeBroker` and helpers imported from `example_simulation` stand in for the\n",
    "live Alpaca services during this demo."
   ]
  },
  {
   "cell_type": "code",
   "execution_count": null,
   "metadata": {},
   "outputs": [],
   "source": [
    "from datetime import datetime\n",
    "import asyncio\n",
    "\n",
    "from config import StrategyConfig, IndicatorConfig, AllocationConfig, RiskConfig\n",
    "from indicators import IndicatorSet\n",
    "from risk import RiskManager\n",
    "from strategy import EmaSmaStrategy\n",
    "from example_simulation import FakeBroker, generate_test_stream\n"
   ]
  },
  {
   "cell_type": "markdown",
   "metadata": {},
   "source": [
    "## 2. Configure symbols and indicator parameters\n",
    "\n",
    "You can swap tickers, tune the EMA/SMA lookbacks, and change allocation\n",
    "rules here. These settings mirror the suggestions for turning the original\n",
    "notebook into an importable module."
   ]
  },
  {
   "cell_type": "code",
   "execution_count": null,
   "metadata": {},
   "outputs": [],
   "source": [
    "strategy_config = StrategyConfig(\n",
    "    bullish_symbol=\"AAPL\",\n",
    "    bearish_symbol=\"SQQQ\",\n",
    "    indicators=IndicatorConfig(ema_period=8, sma_period=21, atr_period=14, seed_bars=5),\n",
    "    allocation=AllocationConfig(cash_fraction=0.4, order_time_in_force=\"day\"),\n",
    "    risk=RiskConfig(close_all_at=None),\n",
    ")\n",
    "strategy_config.stream.symbols = [strategy_config.bullish_symbol]\n",
    "strategy_config"
   ]
  },
  {
   "cell_type": "markdown",
   "metadata": {},
   "source": [
    "## 3. Run the offline bar stream through the strategy\n",
    "\n",
    "The helper below seeds the indicators with the requested lookback, then\n",
    "feeds the remaining synthetic bars into the EMA/SMA crossover strategy.\n",
    "The fake broker records resulting orders so you can inspect them."
   ]
  },
  {
   "cell_type": "code",
   "execution_count": null,
   "metadata": {},
   "outputs": [],
   "source": [
    "async def run_offline_demo(config: StrategyConfig):\n",
    "    broker = FakeBroker(config, buying_power=5_000)\n",
    "    indicators = IndicatorSet.from_config(\n",
    "        ema_period=config.indicators.ema_period,\n",
    "        sma_period=config.indicators.sma_period,\n",
    "        atr_period=config.indicators.atr_period,\n",
    "    )\n",
    "    risk_manager = RiskManager(broker, config.risk)\n",
    "    strategy = EmaSmaStrategy(broker, indicators, risk_manager)\n",
    "\n",
    "    bars = generate_test_stream(datetime(2023, 1, 3, 9, 30))\n",
    "    seed = bars[: config.indicators.seed_bars]\n",
    "    live = bars[config.indicators.seed_bars :]\n",
    "\n",
    "    indicators.seed_from_bars(seed)\n",
    "\n",
    "    for bar in live:\n",
    "        await strategy.on_bar(bar)\n",
    "\n",
    "    return broker\n",
    "\n",
    "demo_broker = asyncio.run(run_offline_demo(strategy_config))\n",
    "demo_broker.orders\n"
   ]
  },
  {
   "cell_type": "markdown",
   "metadata": {},
   "source": [
    "## 4. Inspect the generated orders and final positions\n",
    "\n",
    "The fake broker keeps an in-memory ledger so you can explore the strategy's\n",
    "decisions after the synthetic stream completes."
   ]
  },
  {
   "cell_type": "code",
   "execution_count": null,
   "metadata": {},
   "outputs": [],
   "source": [
    "for order in demo_broker.orders:\n",
    "    print(f\"{order.side:>4} {order.qty:>4} {order.symbol} (TIF={order.tif})\")\n",
    "\n",
    "print(\"\\nFinal simulated positions:\")\n",
    "for symbol, qty in demo_broker.positions.items():\n",
    "    print(f\"  {symbol}: {qty} shares\")\n"
   ]
  }
 ],
 "metadata": {
  "kernelspec": {
   "display_name": "Python 3",
   "language": "python",
   "name": "python3"
  },
  "language_info": {
   "name": "python",
   "version": "3.10"
  }
 },
 "nbformat": 4,
 "nbformat_minor": 5
}