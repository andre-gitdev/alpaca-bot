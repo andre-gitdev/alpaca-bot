{
 "cells": [
  {
   "cell_type": "markdown",
   "metadata": {},
   "source": [
    "# Modular EMA/SMA Strategy Demo\n",
    "\n",
    "This notebook shows how to configure and exercise the trading components\n",
    "from this repository without connecting to Alpaca. It relies on the\n",
    "in-memory broker and synthetic data generators from `example_simulation.py`\n",
    "so you can tweak parameters such as symbols, indicator periods, and cash\n",
    "allocation to observe the resulting orders.",
    "\n",
    "> **Note:** This demo applies `nest_asyncio` so the existing Jupyter event loop can host the async runner without errors.\n"

    "allocation to observe the resulting orders."

   ]
  },
  {
   "cell_type": "markdown",
   "metadata": {},
   "source": [
    "## 1. Import the modular building blocks\n",
    "\n",
    "The configuration dataclasses describe the strategy inputs, while the\n",
    "indicator, risk, and strategy classes orchestrate the trading logic. The\n",
    "`FakeBroker` and helpers imported from `example_simulation` stand in for the\n",
    "live Alpaca services during this demo."
   ]
  },
  {
   "cell_type": "code",
   "execution_count": null,
   "metadata": {},

   "source": [
    "from datetime import datetime\n",
    "import asyncio\n",
    "import nest_asyncio\n",
    "\n",
    "nest_asyncio.apply()\n",
    "\n",
    "from config import StrategyConfig, IndicatorConfig, AllocationConfig, RiskConfig\n",
    "from indicators import IndicatorSet\n",
    "from risk import RiskManager\n",
    "from strategy import EmaSmaStrategy\n",
    "from example_simulation import FakeBroker, generate_test_stream\n"
   ],
   "outputs": [
    {
     "name": "stderr",
     "output_type": "stream",
     "text": [
      "/workspaces/alpaca-bot/bootstrap.py:9: UserWarning: pkg_resources is deprecated as an API. See https://setuptools.pypa.io/en/latest/pkg_resources.html. The pkg_resources package is slated for removal as early as 2025-11-30. Refrain from using this package or pin to Setuptools<81.\n",
      "  import pkg_resources\n"
     ]
    },
    {
     "name": "stdout",
     "output_type": "stream",
     "text": [
      "Requirement already satisfied: robin_stocks in /home/codespace/.local/lib/python3.12/site-packages (3.4.0)\n",
      "Requirement already satisfied: requests in /home/codespace/.local/lib/python3.12/site-packages (from robin_stocks) (2.32.5)\n",
      "Requirement already satisfied: pyotp in /home/codespace/.local/lib/python3.12/site-packages (from robin_stocks) (2.9.0)\n",
      "Requirement already satisfied: python-dotenv in /home/codespace/.local/lib/python3.12/site-packages (from robin_stocks) (1.1.1)\n",
      "Requirement already satisfied: cryptography in /home/codespace/.local/lib/python3.12/site-packages (from robin_stocks) (46.0.2)\n",
      "Requirement already satisfied: cffi>=2.0.0 in /home/codespace/.local/lib/python3.12/site-packages (from cryptography->robin_stocks) (2.0.0)\n",
      "Requirement already satisfied: pycparser in /home/codespace/.local/lib/python3.12/site-packages (from cffi>=2.0.0->cryptography->robin_stocks) (2.23)\n",
      "Requirement already satisfied: charset_normalizer<4,>=2 in /home/codespace/.local/lib/python3.12/site-packages (from requests->robin_stocks) (3.4.3)\n",
      "Requirement already satisfied: idna<4,>=2.5 in /home/codespace/.local/lib/python3.12/site-packages (from requests->robin_stocks) (3.10)\n",
      "Requirement already satisfied: urllib3<3,>=1.21.1 in /home/codespace/.local/lib/python3.12/site-packages (from requests->robin_stocks) (1.26.20)\n",
      "Requirement already satisfied: certifi>=2017.4.17 in /home/codespace/.local/lib/python3.12/site-packages (from requests->robin_stocks) (2025.7.9)\n"
     ]
    },
    {
     "name": "stderr",
     "output_type": "stream",
     "text": [
      "\n",
      "\u001b[1m[\u001b[0m\u001b[34;49mnotice\u001b[0m\u001b[1;39;49m]\u001b[0m\u001b[39;49m A new release of pip is available: \u001b[0m\u001b[31;49m25.1.1\u001b[0m\u001b[39;49m -> \u001b[0m\u001b[32;49m25.2\u001b[0m\n",
      "\u001b[1m[\u001b[0m\u001b[34;49mnotice\u001b[0m\u001b[1;39;49m]\u001b[0m\u001b[39;49m To update, run: \u001b[0m\u001b[32;49mpython -m pip install --upgrade pip\u001b[0m\n"
     ]
    }
   ],
  },
  {
   "cell_type": "markdown",
   "metadata": {},
   "source": [
    "## 2. Configure symbols and indicator parameters\n",
    "\n",
    "You can swap tickers, tune the EMA/SMA lookbacks, and change allocation\n",
    "rules here. These settings mirror the suggestions for turning the original\n",
    "notebook into an importable module."
   ]
  },
  {
   "cell_type": "code",

   "execution_count": null,
   "metadata": {},
   "outputs": [],
   "source": [
    "strategy_config = StrategyConfig(\n",
    "    bullish_symbol=\"AAPL\",\n",
    "    bearish_symbol=\"SQQQ\",\n",

   "execution_count": 2,
   "metadata": {},
   "outputs": [
    {
     "data": {
      "text/plain": [
       "StrategyConfig(bullish_symbol='SOXL', bearish_symbol='SOXS', stream=StreamConfig(symbols=['SOXL'], reconnect_delay=5.0), risk=RiskConfig(max_position_age=datetime.timedelta(seconds=21600), close_all_at=None, buying_power_timeout=datetime.timedelta(seconds=30), buying_power_poll_interval=2.0), indicators=IndicatorConfig(ema_period=8, sma_period=21, atr_period=14, seed_bars=5), allocation=AllocationConfig(cash_fraction=0.4, order_time_in_force='day'))"
      ]
     },
     "execution_count": 2,
     "metadata": {},
     "output_type": "execute_result"
    }
   ],
   "source": [
    "strategy_config = StrategyConfig(\n",
    "    bullish_symbol=\"SOXL\",\n",
    "    bearish_symbol=\"SOXS\",\n",

    "    indicators=IndicatorConfig(ema_period=8, sma_period=21, atr_period=14, seed_bars=5),\n",
    "    allocation=AllocationConfig(cash_fraction=0.4, order_time_in_force=\"day\"),\n",
    "    risk=RiskConfig(close_all_at=None),\n",
    ")\n",
    "strategy_config.stream.symbols = [strategy_config.bullish_symbol]\n",
    "strategy_config"
   ]
  },
  {
   "cell_type": "markdown",
   "metadata": {},
   "source": [
    "## 3. Run the offline bar stream through the strategy\n",
    "\n",
    "The helper below seeds the indicators with the requested lookback, then\n",
    "feeds the remaining synthetic bars into the EMA/SMA crossover strategy.\n",
    "The fake broker records resulting orders so you can inspect them."
   ]
  },
  {
   "cell_type": "code",

   "execution_count": null,
   "metadata": {},
   "outputs": [],

   "execution_count": 3,
   "metadata": {},
   "outputs": [
    {
     "ename": "RuntimeError",
     "evalue": "asyncio.run() cannot be called from a running event loop",
     "output_type": "error",
     "traceback": [
      "\u001b[31m---------------------------------------------------------------------------\u001b[39m",
      "\u001b[31mRuntimeError\u001b[39m                              Traceback (most recent call last)",
      "\u001b[36mCell\u001b[39m\u001b[36m \u001b[39m\u001b[32mIn[3]\u001b[39m\u001b[32m, line 22\u001b[39m\n\u001b[32m     18\u001b[39m         \u001b[38;5;28;01mawait\u001b[39;00m strategy.on_bar(bar)\n\u001b[32m     20\u001b[39m     \u001b[38;5;28;01mreturn\u001b[39;00m broker\n\u001b[32m---> \u001b[39m\u001b[32m22\u001b[39m demo_broker = \u001b[43masyncio\u001b[49m\u001b[43m.\u001b[49m\u001b[43mrun\u001b[49m\u001b[43m(\u001b[49m\u001b[43mrun_offline_demo\u001b[49m\u001b[43m(\u001b[49m\u001b[43mstrategy_config\u001b[49m\u001b[43m)\u001b[49m\u001b[43m)\u001b[49m\n\u001b[32m     23\u001b[39m demo_broker.orders\n",
      "\u001b[36mFile \u001b[39m\u001b[32m/usr/local/python/3.12.1/lib/python3.12/asyncio/runners.py:190\u001b[39m, in \u001b[36mrun\u001b[39m\u001b[34m(main, debug, loop_factory)\u001b[39m\n\u001b[32m    161\u001b[39m \u001b[38;5;250m\u001b[39m\u001b[33;03m\"\"\"Execute the coroutine and return the result.\u001b[39;00m\n\u001b[32m    162\u001b[39m \n\u001b[32m    163\u001b[39m \u001b[33;03mThis function runs the passed coroutine, taking care of\u001b[39;00m\n\u001b[32m   (...)\u001b[39m\u001b[32m    186\u001b[39m \u001b[33;03m    asyncio.run(main())\u001b[39;00m\n\u001b[32m    187\u001b[39m \u001b[33;03m\"\"\"\u001b[39;00m\n\u001b[32m    188\u001b[39m \u001b[38;5;28;01mif\u001b[39;00m events._get_running_loop() \u001b[38;5;129;01mis\u001b[39;00m \u001b[38;5;129;01mnot\u001b[39;00m \u001b[38;5;28;01mNone\u001b[39;00m:\n\u001b[32m    189\u001b[39m     \u001b[38;5;66;03m# fail fast with short traceback\u001b[39;00m\n\u001b[32m--> \u001b[39m\u001b[32m190\u001b[39m     \u001b[38;5;28;01mraise\u001b[39;00m \u001b[38;5;167;01mRuntimeError\u001b[39;00m(\n\u001b[32m    191\u001b[39m         \u001b[33m\"\u001b[39m\u001b[33masyncio.run() cannot be called from a running event loop\u001b[39m\u001b[33m\"\u001b[39m)\n\u001b[32m    193\u001b[39m \u001b[38;5;28;01mwith\u001b[39;00m Runner(debug=debug, loop_factory=loop_factory) \u001b[38;5;28;01mas\u001b[39;00m runner:\n\u001b[32m    194\u001b[39m     \u001b[38;5;28;01mreturn\u001b[39;00m runner.run(main)\n",
      "\u001b[31mRuntimeError\u001b[39m: asyncio.run() cannot be called from a running event loop"
     ]
    }
   ],

   "source": [
    "async def run_offline_demo(config: StrategyConfig):\n",
    "    broker = FakeBroker(config, buying_power=5_000)\n",
    "    indicators = IndicatorSet.from_config(\n",
    "        ema_period=config.indicators.ema_period,\n",
    "        sma_period=config.indicators.sma_period,\n",
    "        atr_period=config.indicators.atr_period,\n",
    "    )\n",
    "    risk_manager = RiskManager(broker, config.risk)\n",
    "    strategy = EmaSmaStrategy(broker, indicators, risk_manager)\n",
    "\n",
    "    bars = generate_test_stream(datetime(2023, 1, 3, 9, 30))\n",
    "    seed = bars[: config.indicators.seed_bars]\n",
    "    live = bars[config.indicators.seed_bars :]\n",
    "\n",
    "    indicators.seed_from_bars(seed)\n",
    "\n",
    "    for bar in live:\n",
    "        await strategy.on_bar(bar)\n",
    "\n",
    "    return broker\n",
    "\n",
    "demo_broker = asyncio.run(run_offline_demo(strategy_config))\n",
    "demo_broker.orders\n"
   ]
  },
  {
   "cell_type": "markdown",
   "metadata": {},
   "source": [
    "## 4. Inspect the generated orders and final positions\n",
    "\n",
    "The fake broker keeps an in-memory ledger so you can explore the strategy's\n",
    "decisions after the synthetic stream completes."
   ]
  },
  {
   "cell_type": "code",
   "execution_count": null,
   "metadata": {},

   "outputs": [],

   "outputs": [
    {
     "name": "stdout",
     "output_type": "stream",
     "text": [
      "\n",
      "Final simulated positions:\n"
     ]
    }
   ],

   "source": [
    "for order in demo_broker.orders:\n",
    "    print(f\"{order.side:>4} {order.qty:>4} {order.symbol} (TIF={order.tif})\")\n",
    "\n",
    "print(\"\\nFinal simulated positions:\")\n",
    "for symbol, qty in demo_broker.positions.items():\n",
    "    print(f\"  {symbol}: {qty} shares\")\n"
   ]
  }
 ],
 "metadata": {
  "kernelspec": {
   "display_name": "Python 3",
   "language": "python",
   "name": "python3"
  },
  "language_info": {

   "name": "python",
   "version": "3.10"

   "codemirror_mode": {
    "name": "ipython",
    "version": 3
   },
   "file_extension": ".py",
   "mimetype": "text/x-python",
   "name": "python",
   "nbconvert_exporter": "python",
   "pygments_lexer": "ipython3",
   "version": "3.12.1"

  }
 },
 "nbformat": 4,
 "nbformat_minor": 5

}

}

